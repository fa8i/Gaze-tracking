{
 "cells": [
  {
   "cell_type": "code",
   "execution_count": 3,
   "metadata": {},
   "outputs": [],
   "source": [
    "import pandas as pd\n",
    "import numpy as np\n",
    "import scipy"
   ]
  },
  {
   "cell_type": "code",
   "execution_count": 4,
   "metadata": {},
   "outputs": [],
   "source": [
    "person_path = r'/home/fabian/Escritorio/TFM/MPIIFaceGaze/p00'\n",
    "person = person_path.split('/')[-1]"
   ]
  },
  {
   "cell_type": "code",
   "execution_count": 5,
   "metadata": {},
   "outputs": [],
   "source": [
    "camera_matrix = scipy.io.loadmat(f'{person_path}/Calibration/Camera.mat')['cameraMatrix']\n",
    "screen_size = scipy.io.loadmat(f'{person_path}/Calibration/screenSize.mat')\n",
    "screen_width_pixel = screen_size[\"width_pixel\"].item()\n",
    "screen_height_pixel = screen_size[\"height_pixel\"].item()\n"
   ]
  },
  {
   "cell_type": "code",
   "execution_count": 6,
   "metadata": {},
   "outputs": [],
   "source": [
    "annotation = pd.read_csv(f'{person_path}/{person}.txt', sep=' ', header=None, index_col=0)"
   ]
  },
  {
   "cell_type": "code",
   "execution_count": null,
   "metadata": {},
   "outputs": [],
   "source": [
    "head_rotation = annotation[14:17].to_numpy().reshape(-1).astype(float)\n",
    "head_translation = annotation[17:20].to_numpy().reshape(-1).astype(float)\n",
    "gaze_target_3d = annotation[23:26].to_numpy().reshape(-1).astype(float)\n",
    "print('rotacion_cabeza', head_rotation)\n",
    "print('traslacion_cabeza', head_translation)\n",
    "print('gaze_target_3d', gaze_target_3d)"
   ]
  },
  {
   "cell_type": "code",
   "execution_count": null,
   "metadata": {},
   "outputs": [],
   "source": [
    "head_rotation_matrix, _ = cv2.Rodrigues(head_rotation)\n",
    "face_landmarks = np.dot(head_rotation_matrix, face_model) + head_translation.reshape((3, 1))\n",
    "left_eye_center = 0.5 * (face_landmarks[:, 2] + face_landmarks[:, 3]).reshape((3, 1))\n",
    "right_eye_center = 0.5 * (face_landmarks[:, 0] + face_landmarks[:, 1]).reshape((3, 1))\n",
    "face_center = face_landmarks.mean(axis=1).reshape((3, 1))\n",
    "print('head_rotation_matrix', head_rotation_matrix)\n",
    "print('face_landmarks', face_landmarks)\n",
    "print('left_eye_center', left_eye_center)\n",
    "print('right_eye_center', right_eye_center)\n",
    "print('face_center', right_eye_center)"
   ]
  }
 ],
 "metadata": {
  "kernelspec": {
   "display_name": "myvenv",
   "language": "python",
   "name": "python3"
  },
  "language_info": {
   "codemirror_mode": {
    "name": "ipython",
    "version": 3
   },
   "file_extension": ".py",
   "mimetype": "text/x-python",
   "name": "python",
   "nbconvert_exporter": "python",
   "pygments_lexer": "ipython3",
   "version": "3.10.12"
  }
 },
 "nbformat": 4,
 "nbformat_minor": 2
}
